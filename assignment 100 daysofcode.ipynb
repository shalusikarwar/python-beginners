{
 "cells": [
  {
   "cell_type": "code",
   "execution_count": null,
   "metadata": {},
   "outputs": [],
   "source": [
    "############### python Assignment weak 1,2 ######################"
   ]
  },
  {
   "cell_type": "code",
   "execution_count": null,
   "metadata": {},
   "outputs": [],
   "source": [
    "############ ***Python Data Type: String - Exercises*** ############"
   ]
  },
  {
   "cell_type": "code",
   "execution_count": 3,
   "metadata": {},
   "outputs": [
    {
     "name": "stdout",
     "output_type": "stream",
     "text": [
      "{'h': 1, 'e': 1, 'l': 2, 'o': 1}\n"
     ]
    }
   ],
   "source": [
    "#Q1. Write a Python program to count the number of characters (character frequency) in a string\n",
    "\n",
    "def string(sr):\n",
    "    dict={}\n",
    "    for i in sr:\n",
    "        keys=dict.keys()\n",
    "        if i in keys:\n",
    "            dict[i]+=1\n",
    "        else:\n",
    "            dict[i]=1\n",
    "    return dict\n",
    "print(string(\"hello\"))"
   ]
  },
  {
   "cell_type": "code",
   "execution_count": 4,
   "metadata": {},
   "outputs": [
    {
     "name": "stdout",
     "output_type": "stream",
     "text": [
      "list of wordpayal\n",
      "The Longest word is payal wiht length 5\n"
     ]
    }
   ],
   "source": [
    "#Q3 Write a Python function that takes a list of words and returns the length of the longest one\n",
    "\n",
    "def longest():\n",
    "    str1= input(\"list of word\")\n",
    "    long=0\n",
    "    for i in str1.split():\n",
    "        if len(i)>long:\n",
    "            long=len(i)\n",
    "            j=i\n",
    "    print(\"The Longest word is\",j,\"wiht length\",len(j))\n",
    "longest()\n"
   ]
  },
  {
   "cell_type": "code",
   "execution_count": 5,
   "metadata": {},
   "outputs": [
    {
     "name": "stdout",
     "output_type": "stream",
     "text": [
      "{'hello': 1, 'i': 2, 'am': 1, 'python': 1, 'learner': 1, 'want': 1, 'to': 1, 'learn': 1, 'it': 1, 'deeply': 1}\n"
     ]
    }
   ],
   "source": [
    "#4. Write a Python program to count the occurrences of each word in a given sentence\n",
    "\n",
    "def count1(str1):\n",
    "    d=dict()\n",
    "    words=str1.split()\n",
    "    for i in words:\n",
    "        if i in d:\n",
    "          d[i]+=1\n",
    "        else:\n",
    "          d[i]=1\n",
    "    return d\n",
    "print( count1(\"hello i am python learner  i want to learn it deeply\"))"
   ]
  },
  {
   "cell_type": "code",
   "execution_count": 6,
   "metadata": {},
   "outputs": [
    {
     "name": "stdout",
     "output_type": "stream",
     "text": [
      "Python\n",
      "PYTHON\n"
     ]
    }
   ],
   "source": [
    "#5. Write a Python function to convert a given string to all uppercase if it contains at least 2 uppercase characters in the first 4 characters\n",
    "\n",
    "def to_uppercase(str1):\n",
    "    num_upper = 0\n",
    "    for letter in str1[:4]:\n",
    "        if letter.upper() == letter:\n",
    "            num_upper += 1\n",
    "    if num_upper >= 2:\n",
    "        return str1.upper()\n",
    "    return str1\n",
    "\n",
    "print(to_uppercase('Python'))\n",
    "print(to_uppercase('PyThon'))\n"
   ]
  },
  {
   "cell_type": "code",
   "execution_count": 7,
   "metadata": {},
   "outputs": [
    {
     "name": "stdout",
     "output_type": "stream",
     "text": [
      "4\n",
      "['e', 'o', 'o', 'a']\n"
     ]
    }
   ],
   "source": [
    "#6. Write a Python program to count and display the vowels of a given text\n",
    "\n",
    "def vowel(text):\n",
    "    vowels = \"AEIOUaeiou\"\n",
    "    print(len([letter for letter in text if letter in vowels]))\n",
    "    print([letter for letter in text if letter in vowels])\n",
    "vowel('technocolabs');"
   ]
  },
  {
   "cell_type": "code",
   "execution_count": 8,
   "metadata": {},
   "outputs": [],
   "source": [
    "############### Python Data Type List Question ######################\n"
   ]
  },
  {
   "cell_type": "code",
   "execution_count": 9,
   "metadata": {},
   "outputs": [
    {
     "name": "stdout",
     "output_type": "stream",
     "text": [
      "list is empty\n"
     ]
    }
   ],
   "source": [
    "#1. Write a Python program to check a list is empty or not\n",
    "\n",
    "list=[]\n",
    "if not list:\n",
    "    print(\"list is empty\")"
   ]
  },
  {
   "cell_type": "code",
   "execution_count": 10,
   "metadata": {},
   "outputs": [
    {
     "name": "stdout",
     "output_type": "stream",
     "text": [
      "True\n"
     ]
    }
   ],
   "source": [
    "#2. Write a Python program to remove duplicates from a list.\n",
    "\n",
    "def common(l1,l2):\n",
    "    result=False\n",
    "    for i in l1:\n",
    "        for j in l2:\n",
    "            if i==j:\n",
    "                result=True\n",
    "                return result\n",
    "print(common([2,3,8,9,0],[1,2,3,4,5]))"
   ]
  },
  {
   "cell_type": "code",
   "execution_count": 1,
   "metadata": {},
   "outputs": [
    {
     "name": "stdout",
     "output_type": "stream",
     "text": [
      "True\n"
     ]
    }
   ],
   "source": [
    "#3. Write a Python function that takes two lists and returns True if they have at least one common member\n",
    "\n",
    "def common(l1,l2):\n",
    "    result=False\n",
    "    for i in l1:\n",
    "        for j in l2:\n",
    "            if i==j:\n",
    "                result=True\n",
    "                return result\n",
    "print(common([2,3,8,9,0],[1,2,3,4,5]))"
   ]
  },
  {
   "cell_type": "code",
   "execution_count": 2,
   "metadata": {},
   "outputs": [
    {
     "name": "stdout",
     "output_type": "stream",
     "text": [
      "[3, 4]\n"
     ]
    }
   ],
   "source": [
    "#4. Write a Python program to get the difference between the two lists\n",
    "\n",
    "list1=[1,2,3,4]\n",
    "list2=[1,2]\n",
    "print(list(set(list1)-set(list2)))"
   ]
  },
  {
   "cell_type": "code",
   "execution_count": 3,
   "metadata": {},
   "outputs": [
    {
     "name": "stdout",
     "output_type": "stream",
     "text": [
      "-2\n",
      "0\n",
      "0\n",
      "None\n",
      "None\n"
     ]
    }
   ],
   "source": [
    "#5. Write a Python program to find the second smallest number in a listn\n",
    "\n",
    "def second_smallest(numbers):\n",
    "  if (len(numbers)<2):\n",
    "    return\n",
    "  if ((len(numbers)==2)  and (numbers[0] == numbers[1]) ):\n",
    "    return\n",
    "  dup_items = set()\n",
    "  uniq_items = []\n",
    "  for x in numbers:\n",
    "    if x not in dup_items:\n",
    "      uniq_items.append(x)\n",
    "      dup_items.add(x)\n",
    "  uniq_items.sort()\n",
    "  return  uniq_items[1]\n",
    "\n",
    "print(second_smallest([1, 2, -8, -2, 0, -2]))\n",
    "print(second_smallest([1, 1, 0, 0, 2, -2, -2]))\n",
    "print(second_smallest([1, 1, 1, 0, 0, 0, 2, -2, -2]))\n",
    "print(second_smallest([2,2]))\n",
    "print(second_smallest([2]))"
   ]
  },
  {
   "cell_type": "code",
   "execution_count": 4,
   "metadata": {},
   "outputs": [
    {
     "name": "stdout",
     "output_type": "stream",
     "text": [
      "Second highest number is :  45\n"
     ]
    }
   ],
   "source": [
    "#6. Write a Python program to find the second largest number in a list.\n",
    "\n",
    "list1 = [10, 20, 4, 45, 99]\n",
    "\n",
    "max = max(list1[0], list1[1])\n",
    "secondmax = min(list1[0], list1[1])\n",
    "\n",
    "for i in range(2, len(list1)):\n",
    "    if list1[i] > max:\n",
    "        secondmax = max\n",
    "        max = list1[i]\n",
    "    else:\n",
    "        if list1[i] > secondmax:\n",
    "            secondmax = list1[i]\n",
    "\n",
    "print(\"Second highest number is : \", str(secondmax))"
   ]
  },
  {
   "cell_type": "code",
   "execution_count": 5,
   "metadata": {},
   "outputs": [
    {
     "name": "stdout",
     "output_type": "stream",
     "text": [
      "Original List :  [10, 10, 10, 10, 20, 20, 20, 20, 40, 40, 50, 50, 30]\n",
      "Frequency of the elements in the List :  Counter({10: 4, 20: 4, 40: 2, 50: 2, 30: 1})\n"
     ]
    }
   ],
   "source": [
    "#7. Write a Python program to get the frequency of the elements in a list\n",
    "\n",
    "import collections\n",
    "my_list = [10,10,10,10,20,20,20,20,40,40,50,50,30]\n",
    "print(\"Original List : \",my_list)\n",
    "ctr = collections.Counter(my_list)\n",
    "print(\"Frequency of the elements in the List : \",ctr)\n"
   ]
  },
  {
   "cell_type": "code",
   "execution_count": 6,
   "metadata": {},
   "outputs": [
    {
     "name": "stdout",
     "output_type": "stream",
     "text": [
      "Original List:  [11, 33, 50]\n",
      "Single Integer:  113350\n"
     ]
    }
   ],
   "source": [
    "#8. Write a Python program to convert a list of multiple integers into a single integer\n",
    "L = [11, 33, 50]\n",
    "print(\"Original List: \",L)\n",
    "x = int(\"\".join(map(str, L)))\n",
    "print(\"Single Integer: \",x)\n"
   ]
  },
  {
   "cell_type": "code",
   "execution_count": 7,
   "metadata": {},
   "outputs": [
    {
     "name": "stdout",
     "output_type": "stream",
     "text": [
      "Color1-Color2:  ['red', 'orange', 'white']\n",
      "Color2-Color1:  ['black', 'yellow']\n"
     ]
    }
   ],
   "source": [
    "#9. Write a Python program to compute the similarity between two lists.\n",
    "from collections import Counter\n",
    "color1 = [\"red\", \"orange\", \"green\", \"blue\", \"white\"]\n",
    "color2 = [\"black\", \"yellow\", \"green\", \"blue\"]\n",
    "counter1 = Counter(color1)\n",
    "counter2 = Counter(color2)\n",
    "print(\"Color1-Color2: \",list(counter1 - counter2))\n",
    "print(\"Color2-Color1: \",list(counter2 - counter1))"
   ]
  },
  {
   "cell_type": "code",
   "execution_count": 8,
   "metadata": {},
   "outputs": [
    {
     "name": "stdout",
     "output_type": "stream",
     "text": [
      "True\n",
      "False\n"
     ]
    }
   ],
   "source": [
    "#10. Write a Python program to check if all dictionaries in a list are empty or not.\n",
    "\n",
    "list1 = [{},{},{}]\n",
    "list2 = [{1,2},{},{}]\n",
    "print(all(not data for data in list1))\n",
    "print(all(not data for data in list2))"
   ]
  },
  {
   "cell_type": "code",
   "execution_count": null,
   "metadata": {},
   "outputs": [],
   "source": [
    "############# Python Data Type Dictionary  ############################\n"
   ]
  },
  {
   "cell_type": "code",
   "execution_count": 9,
   "metadata": {},
   "outputs": [
    {
     "name": "stdout",
     "output_type": "stream",
     "text": [
      "{0: 0} {1: 1} {2: 4} {3: 9} {4: 16} "
     ]
    }
   ],
   "source": [
    "\n",
    "#1. Write a Python script to generate and print a dictionary that contains a number (between 1 and n) in the form (x, x*x)\n",
    "\n",
    "n=5\n",
    "for i in range(n):\n",
    "    key=i\n",
    "    value=i*i\n",
    "    dict1={key:value}\n",
    "    print(dict1,end=\" \")\n"
   ]
  },
  {
   "cell_type": "code",
   "execution_count": 10,
   "metadata": {},
   "outputs": [
    {
     "name": "stdout",
     "output_type": "stream",
     "text": [
      "Counter({'a': 400, 'b': 400, 'd': 400, 'c': 300})\n"
     ]
    }
   ],
   "source": [
    "#2. Write a Python program to combine two dictionary adding values for common keys\n",
    "\n",
    "\n",
    "from collections import Counter\n",
    "d1 = {'a': 100, 'b': 200, 'c':300}\n",
    "d2 = {'a': 300, 'b': 200, 'd':400}\n",
    "d = Counter(d1) + Counter(d2)\n",
    "print(d)"
   ]
  },
  {
   "cell_type": "code",
   "execution_count": 11,
   "metadata": {},
   "outputs": [
    {
     "name": "stdout",
     "output_type": "stream",
     "text": [
      "{'S002', 'S005', 'S001', 'S007', 'S009'}\n"
     ]
    }
   ],
   "source": [
    "#3. Write a Python program to print all unique values in a dictionary\n",
    "list= [{\"V\":\"S001\"}, {\"V\": \"S002\"}, {\"VI\": \"S001\"}, {\"VI\": \"S005\"}, {\"VII\":\"S005\"}, {\"V\":\"S009\"},{\"VIII\":\"S007\"}]\n",
    "u=set(i for dic in list for i in dic.values())\n",
    "print(u)\n"
   ]
  },
  {
   "cell_type": "code",
   "execution_count": 12,
   "metadata": {},
   "outputs": [
    {
     "name": "stdout",
     "output_type": "stream",
     "text": [
      "ac\n",
      "ad\n",
      "bc\n",
      "bd\n"
     ]
    }
   ],
   "source": [
    "#4. Write a Python program to create and display all combinations of letters, selecting each letter from a different key in a dictionary.\n",
    "\n",
    "\n",
    "from itertools import product\n",
    "d={'1':['a','b'],'2':['c','d']}\n",
    "for x,y in product(*d.values()):\n",
    "    print(x+y)"
   ]
  },
  {
   "cell_type": "code",
   "execution_count": 13,
   "metadata": {},
   "outputs": [
    {
     "name": "stdout",
     "output_type": "stream",
     "text": [
      "{'w': 1, '3': 1, 'r': 2, 'e': 2, 's': 1, 'o': 1, 'u': 1, 'c': 1}\n"
     ]
    }
   ],
   "source": [
    "#5. Write a Python program to create a dictionary from a string.\n",
    "\n",
    "from collections import defaultdict, Counter\n",
    "str1 = 'w3resource'\n",
    "my_dict = {}\n",
    "for letter in str1:\n",
    "    my_dict[letter] = my_dict.get(letter, 0) + 1\n",
    "print(my_dict)\n"
   ]
  },
  {
   "cell_type": "code",
   "execution_count": 14,
   "metadata": {},
   "outputs": [
    {
     "name": "stdout",
     "output_type": "stream",
     "text": [
      "2\n"
     ]
    }
   ],
   "source": [
    "#6. Write a Python program to count the values associated with key in a dictionary.\n",
    "listdict= [{'id': 1, 'success': True, 'name': 'Lary'}, {'id': 2, 'success': False, 'name': 'Rabi'}, {'id': 3, 'success': True, 'name': 'Alex'}]\n",
    "print(sum(i['success'] for i in listdict))"
   ]
  },
  {
   "cell_type": "code",
   "execution_count": 15,
   "metadata": {},
   "outputs": [
    {
     "name": "stdout",
     "output_type": "stream",
     "text": [
      "{'name': 'shalu', 'age': 20, 'roll': 456}\n"
     ]
    }
   ],
   "source": [
    "#7. Write a Python program to convert a list into a nested dictionary of keys.\n",
    "\n",
    "\n",
    "lkey=[\"name\",\"age\",\"roll\"]\n",
    "lvalue=[\"shalu\",20,456]\n",
    "d1=dict(zip(lkey,lvalue))\n",
    "print(d1)"
   ]
  },
  {
   "cell_type": "code",
   "execution_count": 16,
   "metadata": {},
   "outputs": [
    {
     "name": "stdout",
     "output_type": "stream",
     "text": [
      "{'n1': [1, 2, 3, 4], 'n2': [7, 8, 9], 'n3': [4, 5, 6]}\n"
     ]
    }
   ],
   "source": [
    "#8. Write a Python program to sort a list alphabetically in a dictionary.\n",
    "\n",
    "dict1={'n1':[1,2,3,4],'n2':[7,8,9],'n3':[4,5,6]}\n",
    "s={i: sorted(j) for i,j in dict1.items()}\n",
    "print(s)"
   ]
  },
  {
   "cell_type": "code",
   "execution_count": 17,
   "metadata": {},
   "outputs": [
    {
     "name": "stdout",
     "output_type": "stream",
     "text": [
      "[('Chemistry', 87), ('Physics', 83), ('Math', 81)]\n"
     ]
    }
   ],
   "source": [
    "#9. Write a Python program to sort Counter by value.\n",
    "\n",
    "\n",
    "from collections import Counter\n",
    "marks= Counter({'Math':81, 'Physics':83, 'Chemistry':87})\n",
    "print(marks.most_common())\n"
   ]
  },
  {
   "cell_type": "code",
   "execution_count": 18,
   "metadata": {},
   "outputs": [
    {
     "name": "stdout",
     "output_type": "stream",
     "text": [
      "key1:1 is present in both dict1 and dict2\n"
     ]
    }
   ],
   "source": [
    "#10. Write a Python program to match key values in two dictionaries. Go to the editor\n",
    "dict1={'key1': 1, 'key2': 3, 'key3': 2}\n",
    "dict2={'key1': 1, 'key2': 2}\n",
    "for (key,value) in set(dict1.items()) & set(dict2.items()):\n",
    "    print(\"%s:%s is present in both dict1 and dict2\"%(key,value))\n"
   ]
  },
  {
   "cell_type": "code",
   "execution_count": 19,
   "metadata": {},
   "outputs": [],
   "source": [
    "################ Python Data Types: Tuple - Exercises ##################\n"
   ]
  },
  {
   "cell_type": "code",
   "execution_count": 20,
   "metadata": {},
   "outputs": [
    {
     "name": "stdout",
     "output_type": "stream",
     "text": [
      "('shalu', True, 4.5, 9)\n"
     ]
    }
   ],
   "source": [
    "#1. Write a Python program to create a tuple with different data types.\n",
    "\n",
    "tuple=(\"shalu\", True ,4.5,9)\n",
    "print(tuple)\n"
   ]
  },
  {
   "cell_type": "code",
   "execution_count": 21,
   "metadata": {},
   "outputs": [
    {
     "name": "stdout",
     "output_type": "stream",
     "text": [
      "(2, 3, 4, 5, 1, 2, 3)\n"
     ]
    }
   ],
   "source": [
    "#2. Write a Python program to add an item in a tuple\n",
    "\n",
    "t=(2,3,4,5,)\n",
    "t=t+(1,2,3,)\n",
    "print(t)"
   ]
  },
  {
   "cell_type": "code",
   "execution_count": 22,
   "metadata": {},
   "outputs": [
    {
     "name": "stdout",
     "output_type": "stream",
     "text": [
      "shalu\n"
     ]
    }
   ],
   "source": [
    "#3. Write a Python program to convert a tuple to a string.\n",
    "\n",
    "t=('s','h','a','l','u')\n",
    "str=''.join(t)\n",
    "print(str)"
   ]
  },
  {
   "cell_type": "code",
   "execution_count": 23,
   "metadata": {},
   "outputs": [
    {
     "name": "stdout",
     "output_type": "stream",
     "text": [
      "3\n",
      "4\n",
      "4\n",
      "3\n"
     ]
    }
   ],
   "source": [
    "#4. Write a Python program to find the repeated items of a tuple\n",
    "\n",
    "tuple1=(1,2,3,4,5,4,3,)\n",
    "for i in tuple1:\n",
    "    if tuple1.count(i)>1:\n",
    "        print(i)"
   ]
  },
  {
   "cell_type": "code",
   "execution_count": 24,
   "metadata": {},
   "outputs": [
    {
     "name": "stdout",
     "output_type": "stream",
     "text": [
      "4\n"
     ]
    }
   ],
   "source": [
    "#5. Write a Python program to find the length of a tuple.\n",
    "\n",
    "tuple1=(\"shalu\",1,3,\"diksha\")\n",
    "print(len(tuple1))"
   ]
  },
  {
   "cell_type": "code",
   "execution_count": 25,
   "metadata": {},
   "outputs": [
    {
     "name": "stdout",
     "output_type": "stream",
     "text": [
      "{'food': 2, 'age': 20}\n"
     ]
    }
   ],
   "source": [
    "#6. Write a Python program to convert a tuple to a dictionary.\n",
    "\n",
    "tuple2=((\"food\",2),(\"age\",20))\n",
    "dict1=dict(tuple2)\n",
    "print(dict1)"
   ]
  },
  {
   "cell_type": "code",
   "execution_count": 26,
   "metadata": {},
   "outputs": [
    {
     "name": "stdout",
     "output_type": "stream",
     "text": [
      "3\n",
      "[(1, 2, 1), (3, 5, 1), (2, 3, 1)]\n"
     ]
    }
   ],
   "source": [
    "#7. Write a Python program to replace last value of tuples in a list.\n",
    "list=[(1,2,3),(3,5,6),(2,3,4)]\n",
    "print(len(list))\n",
    "print([i[:-1]+(1,) for i in list])"
   ]
  },
  {
   "cell_type": "code",
   "execution_count": 27,
   "metadata": {},
   "outputs": [
    {
     "name": "stdout",
     "output_type": "stream",
     "text": [
      "[('',), ('a', 'b'), ('a', 'b', 'c', 'd')]\n"
     ]
    }
   ],
   "source": [
    "#8. Sample data: [(), (), ('',), ('a', 'b'), ('a', 'b', 'c'), ('d')]\n",
    "#Expected output: [('',), ('a', 'b'), ('a', 'b', 'c'), 'd']\n",
    "\n",
    "\n",
    "list1=[(),(),('',),('a','b'),('a','b','c','d')]\n",
    "list1 =[tuple for tuple in list1 if tuple]\n",
    "print(list1)"
   ]
  },
  {
   "cell_type": "code",
   "execution_count": 28,
   "metadata": {},
   "outputs": [
    {
     "name": "stdout",
     "output_type": "stream",
     "text": [
      "[('item3', '24.5'), ('item2', '15.10'), ('item1', '12.20')]\n"
     ]
    }
   ],
   "source": [
    "#9. Write a Python program to sort a tuple by its float element.\n",
    "price = [('item1', '12.20'), ('item2', '15.10'), ('item3', '24.5')]\n",
    "print( sorted(price, key=lambda x: float(x[1]), reverse=True))"
   ]
  },
  {
   "cell_type": "code",
   "execution_count": 30,
   "metadata": {},
   "outputs": [
    {
     "ename": "TypeError",
     "evalue": "isinstance() arg 2 must be a type or tuple of types",
     "output_type": "error",
     "traceback": [
      "\u001b[1;31m---------------------------------------------------------------------------\u001b[0m",
      "\u001b[1;31mTypeError\u001b[0m                                 Traceback (most recent call last)",
      "\u001b[1;32m<ipython-input-30-f4e6e8a8fdb5>\u001b[0m in \u001b[0;36m<module>\u001b[1;34m\u001b[0m\n\u001b[0;32m      4\u001b[0m \u001b[0mc\u001b[0m \u001b[1;33m=\u001b[0m \u001b[1;36m0\u001b[0m\u001b[1;33m\u001b[0m\u001b[1;33m\u001b[0m\u001b[0m\n\u001b[0;32m      5\u001b[0m \u001b[1;32mfor\u001b[0m \u001b[0mn\u001b[0m \u001b[1;32min\u001b[0m \u001b[0mnum\u001b[0m\u001b[1;33m:\u001b[0m\u001b[1;33m\u001b[0m\u001b[1;33m\u001b[0m\u001b[0m\n\u001b[1;32m----> 6\u001b[1;33m     \u001b[1;32mif\u001b[0m \u001b[0misinstance\u001b[0m\u001b[1;33m(\u001b[0m\u001b[0mn\u001b[0m\u001b[1;33m,\u001b[0m \u001b[0mtuple\u001b[0m\u001b[1;33m)\u001b[0m\u001b[1;33m:\u001b[0m\u001b[1;33m\u001b[0m\u001b[1;33m\u001b[0m\u001b[0m\n\u001b[0m\u001b[0;32m      7\u001b[0m         \u001b[1;32mbreak\u001b[0m\u001b[1;33m\u001b[0m\u001b[1;33m\u001b[0m\u001b[0m\n\u001b[0;32m      8\u001b[0m     \u001b[0mc\u001b[0m \u001b[1;33m+=\u001b[0m \u001b[1;36m1\u001b[0m\u001b[1;33m\u001b[0m\u001b[1;33m\u001b[0m\u001b[0m\n",
      "\u001b[1;31mTypeError\u001b[0m: isinstance() arg 2 must be a type or tuple of types"
     ]
    }
   ],
   "source": [
    "#10. Write a Python program to count the elements in a list until an element is a tuple\n",
    "\n",
    "num = [10,20,30,(10,20),40]\n",
    "c = 0\n",
    "for n in num:\n",
    "    if isinstance(n, tuple):\n",
    "        break\n",
    "    c += 1\n",
    "print(c)"
   ]
  },
  {
   "cell_type": "code",
   "execution_count": 31,
   "metadata": {},
   "outputs": [],
   "source": [
    "############ Python Conditional Statements and loops ###################\n"
   ]
  },
  {
   "cell_type": "code",
   "execution_count": 32,
   "metadata": {},
   "outputs": [
    {
     "name": "stdout",
     "output_type": "stream",
     "text": [
      "Number of even no. 4\n",
      " Number of odd no.5\n"
     ]
    }
   ],
   "source": [
    "#1. Write a Python program to count the number of even and odd numbers from a series of numbers.\n",
    "\n",
    "a=(1,2,3,4,5,6,7,8,9)\n",
    "even=0\n",
    "odd=0\n",
    "for i in a:\n",
    "    if i%2==0:\n",
    "        even=even+1\n",
    "    else:\n",
    "        odd=odd+1\n",
    "print(\"Number of even no. {}\\n Number of odd no.{}\".format(even,odd))"
   ]
  },
  {
   "cell_type": "code",
   "execution_count": 33,
   "metadata": {},
   "outputs": [
    {
     "name": "stdout",
     "output_type": "stream",
     "text": [
      "0\n",
      "1\n",
      "2\n",
      "4\n",
      "5\n"
     ]
    }
   ],
   "source": [
    "#2. Write a Python program that prints all the numbers from 0 to 6 except 3 and 6.\n",
    "\n",
    "for i in range(7):\n",
    "    if i==3 or i==6:\n",
    "        continue\n",
    "    else:\n",
    "        print(i)"
   ]
  },
  {
   "cell_type": "code",
   "execution_count": 34,
   "metadata": {},
   "outputs": [
    {
     "name": "stdout",
     "output_type": "stream",
     "text": [
      "1\n",
      "1\n",
      "2\n",
      "3\n",
      "5\n",
      "8\n",
      "13\n",
      "21\n",
      "34\n"
     ]
    }
   ],
   "source": [
    "#3. Write a Python program to get the Fibonacci series between 0 to 50.\n",
    "\n",
    "first,second=0,1,\n",
    "while second<50:\n",
    "    print(second)\n",
    "    first,second=second,first+second\n"
   ]
  },
  {
   "cell_type": "code",
   "execution_count": 36,
   "metadata": {},
   "outputs": [
    {
     "ename": "TypeError",
     "evalue": "'int' object is not iterable",
     "output_type": "error",
     "traceback": [
      "\u001b[1;31m---------------------------------------------------------------------------\u001b[0m",
      "\u001b[1;31mTypeError\u001b[0m                                 Traceback (most recent call last)",
      "\u001b[1;32m<ipython-input-36-71ba32244ff1>\u001b[0m in \u001b[0;36m<module>\u001b[1;34m\u001b[0m\n\u001b[0;32m      2\u001b[0m \u001b[1;33m\u001b[0m\u001b[0m\n\u001b[0;32m      3\u001b[0m \u001b[1;32mfor\u001b[0m \u001b[0mi\u001b[0m \u001b[1;32min\u001b[0m \u001b[0mrange\u001b[0m\u001b[1;33m(\u001b[0m\u001b[1;36m100\u001b[0m\u001b[1;33m,\u001b[0m\u001b[1;36m401\u001b[0m\u001b[1;33m)\u001b[0m\u001b[1;33m:\u001b[0m\u001b[1;33m\u001b[0m\u001b[1;33m\u001b[0m\u001b[0m\n\u001b[1;32m----> 4\u001b[1;33m     \u001b[1;32mfor\u001b[0m \u001b[0mj\u001b[0m \u001b[1;32min\u001b[0m \u001b[0mi\u001b[0m\u001b[1;33m:\u001b[0m\u001b[1;33m\u001b[0m\u001b[1;33m\u001b[0m\u001b[0m\n\u001b[0m\u001b[0;32m      5\u001b[0m         \u001b[1;32mif\u001b[0m \u001b[0mj\u001b[0m\u001b[1;33m%\u001b[0m\u001b[1;36m2\u001b[0m\u001b[1;33m==\u001b[0m\u001b[1;36m0\u001b[0m\u001b[1;33m:\u001b[0m\u001b[1;33m\u001b[0m\u001b[1;33m\u001b[0m\u001b[0m\n\u001b[0;32m      6\u001b[0m             \u001b[1;32mcontinue\u001b[0m\u001b[1;33m\u001b[0m\u001b[1;33m\u001b[0m\u001b[0m\n",
      "\u001b[1;31mTypeError\u001b[0m: 'int' object is not iterable"
     ]
    }
   ],
   "source": [
    "#4. Write a Python program to find numbers between 100 and 400 (both included) where each digit of a number is an even number. The numbers obtained should be printed in a comma-separated sequence\n",
    "\n",
    "for i in range(100,401):\n",
    "    for j in i:\n",
    "        if j%2==0:\n",
    "            continue\n",
    "        else:\n",
    "            print(\"\")\n",
    "        print(j)"
   ]
  },
  {
   "cell_type": "code",
   "execution_count": 37,
   "metadata": {},
   "outputs": [
    {
     "name": "stdout",
     "output_type": "stream",
     "text": [
      "enter the no6\n",
      "6 * 1 = 6\n",
      "6 * 2 = 12\n",
      "6 * 3 = 18\n",
      "6 * 4 = 24\n",
      "6 * 5 = 30\n",
      "6 * 6 = 36\n",
      "6 * 7 = 42\n",
      "6 * 8 = 48\n",
      "6 * 9 = 54\n",
      "6 * 10 = 60\n"
     ]
    }
   ],
   "source": [
    "#5. Write a Python program to create the multiplication table (from 1 to 10) of a number.\n",
    "\n",
    "number=int(input(\"enter the no\"))\n",
    "for i in range(1,11):\n",
    "    mul=number*i\n",
    "    print(number,\"*\",i,\"=\",mul)"
   ]
  },
  {
   "cell_type": "code",
   "execution_count": 38,
   "metadata": {},
   "outputs": [],
   "source": [
    "############# Python functions - Exercises ################\n",
    "\n"
   ]
  },
  {
   "cell_type": "code",
   "execution_count": 39,
   "metadata": {},
   "outputs": [
    {
     "name": "stdout",
     "output_type": "stream",
     "text": [
      "7\n"
     ]
    }
   ],
   "source": [
    "#1. Write a Python function to find the Max of three numbers\n",
    "\n",
    "def compare(a,b,c):\n",
    "    if a>b:\n",
    "        print(a)\n",
    "    elif b>c:\n",
    "        print(b)\n",
    "    else:\n",
    "        print(c)\n",
    "compare(4,6,7)"
   ]
  },
  {
   "cell_type": "code",
   "execution_count": 40,
   "metadata": {},
   "outputs": [
    {
     "name": "stdout",
     "output_type": "stream",
     "text": [
      "28\n"
     ]
    }
   ],
   "source": [
    "#2. Write a Python function to sum all the numbers in a list\n",
    "\n",
    "\n",
    "def sumList(list):\n",
    "    sum1=0\n",
    "    for i in list:\n",
    "        sum1=sum1+i\n",
    "    print(sum1)\n",
    "list1=[2,3,4,5,7,7]\n",
    "sumList(list1)"
   ]
  },
  {
   "cell_type": "code",
   "execution_count": 41,
   "metadata": {},
   "outputs": [
    {
     "name": "stdout",
     "output_type": "stream",
     "text": [
      "30\n"
     ]
    }
   ],
   "source": [
    "#3. Write a Python function to multiply all the numbers in a list\n",
    "\n",
    "def multiplyList(list):\n",
    "    mul=1\n",
    "    for i in list:\n",
    "        mul=mul*i\n",
    "    print(mul)\n",
    "multiplyList([2,3,1,5])"
   ]
  },
  {
   "cell_type": "code",
   "execution_count": 43,
   "metadata": {},
   "outputs": [
    {
     "name": "stdout",
     "output_type": "stream",
     "text": [
      "enter the string : Shalu \n",
      "UpperCase letter in a string is1 and \n",
      " Lower case letter is 5\n"
     ]
    }
   ],
   "source": [
    "#4. Write a Python function that accepts a string and calculate the number of upper case letters and lower case letters\n",
    "\n",
    "def upperLower(s):\n",
    "    lowerCase=0\n",
    "    upperCase=0\n",
    "    for i in s:\n",
    "        if i.isupper():\n",
    "            upperCase=upperCase+1\n",
    "        else:\n",
    "            lowerCase=lowerCase+1\n",
    "    print(\"UpperCase letter in a string is{} and \\n Lower case letter is {}\".format(upperCase,lowerCase))\n",
    "st=input(\"enter the string : \")\n",
    "upperLower(st)"
   ]
  },
  {
   "cell_type": "code",
   "execution_count": 44,
   "metadata": {},
   "outputs": [
    {
     "name": "stdout",
     "output_type": "stream",
     "text": [
      "20\n"
     ]
    }
   ],
   "source": [
    "#5. Write a Python program to print the even numbers from a given list\n",
    "\n",
    "def sumEven(list):\n",
    "    even=0\n",
    "    for i in list:\n",
    "        if i%2==0:\n",
    "            even=even+i\n",
    "        else:\n",
    "            even=even\n",
    "    print(even)\n",
    "sumEven([2,3,4,5,6,7,8])"
   ]
  },
  {
   "cell_type": "code",
   "execution_count": null,
   "metadata": {},
   "outputs": [],
   "source": []
  }
 ],
 "metadata": {
  "kernelspec": {
   "display_name": "Python 3",
   "language": "python",
   "name": "python3"
  },
  "language_info": {
   "codemirror_mode": {
    "name": "ipython",
    "version": 3
   },
   "file_extension": ".py",
   "mimetype": "text/x-python",
   "name": "python",
   "nbconvert_exporter": "python",
   "pygments_lexer": "ipython3",
   "version": "3.7.4"
  }
 },
 "nbformat": 4,
 "nbformat_minor": 4
}
